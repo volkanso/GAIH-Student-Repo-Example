{
  "nbformat": 4,
  "nbformat_minor": 0,
  "metadata": {
    "colab": {
      "name": "kod.ipynb",
      "private_outputs": true,
      "provenance": [],
      "authorship_tag": "ABX9TyMcmmTFwrv21r6ycblUnxvx",
      "include_colab_link": true
    },
    "kernelspec": {
      "name": "python3",
      "display_name": "Python 3"
    }
  },
  "cells": [
    {
      "cell_type": "markdown",
      "metadata": {
        "id": "view-in-github",
        "colab_type": "text"
      },
      "source": [
        "<a href=\"https://colab.research.google.com/github/volkanso/GAIH-Student-Repo-Example/blob/file%2Fstorage%2Femulated%2F0%2FDownload%2Flogo%2520(1).png/kod.ipynb\" target=\"_parent\"><img src=\"https://colab.research.google.com/assets/colab-badge.svg\" alt=\"Open In Colab\"/></a>"
      ]
    },
    {
      "cell_type": "code",
      "metadata": {
        "id": "4hkdKhWVwxWE"
      },
      "source": [
        "#@title Varsayılan başlık metni\n",
        " prime_fırst= range(0, 1000)\n",
        "for i in range(0, 1000):\n",
        "  asalsayı = filter(lambda x: x== i or x % i, nums )\n",
        "  print (i)\n",
        "\n",
        "\n",
        "\n"
      ],
      "execution_count": null,
      "outputs": []
    },
    {
      "cell_type": "code",
      "metadata": {
        "id": "Wdt0qstu2Rxt"
      },
      "source": [
        ""
      ],
      "execution_count": null,
      "outputs": []
    }
  ]
}