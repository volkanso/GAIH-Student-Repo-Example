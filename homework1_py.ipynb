{
  "nbformat": 4,
  "nbformat_minor": 0,
  "metadata": {
    "colab": {
      "name": "homework1.py",
      "private_outputs": true,
      "provenance": [],
      "authorship_tag": "ABX9TyNBsnoQY8hazoPSnIVee12s",
      "include_colab_link": true
    },
    "kernelspec": {
      "name": "python3",
      "display_name": "Python 3"
    }
  },
  "cells": [
    {
      "cell_type": "markdown",
      "metadata": {
        "id": "view-in-github",
        "colab_type": "text"
      },
      "source": [
        "<a href=\"https://colab.research.google.com/github/volkanso/GAIH-Student-Repo-Example/blob/file%2Fstorage%2Femulated%2F0%2FDownload%2Flogo%2520(1).png/homework1_py.ipynb\" target=\"_parent\"><img src=\"https://colab.research.google.com/assets/colab-badge.svg\" alt=\"Open In Colab\"/></a>"
      ]
    },
    {
      "cell_type": "code",
      "metadata": {
        "id": "SMZUo_VqKmCz"
      },
      "source": [
        "tek=[3,5,7,9,11]\r\n",
        "cift=[4,6,8,10,12]\r\n",
        "tek+cift\r\n",
        "üst=[3, 5, 7, 9, 11, 4, 6, 8, 10, 12]\r\n",
        "for i in range(3,13):\r\n",
        "    print(int(2**i))"
      ],
      "execution_count": null,
      "outputs": []
    }
  ]
}